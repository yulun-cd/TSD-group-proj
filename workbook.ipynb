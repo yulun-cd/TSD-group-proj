{
 "cells": [
  {
   "cell_type": "code",
   "execution_count": null,
   "metadata": {},
   "outputs": [],
   "source": [
    "# import libraries\n",
    "import pandas as pd\n",
    "import geopandas as gpd\n",
    "import numpy as np"
   ]
  },
  {
   "cell_type": "code",
   "execution_count": null,
   "metadata": {},
   "outputs": [],
   "source": [
    "kc_df = pd.read_excel('kc_regional_variation.xlsx', header=[0,1])\n",
    "kc_df.head()"
   ]
  },
  {
   "cell_type": "code",
   "execution_count": null,
   "metadata": {},
   "outputs": [],
   "source": [
    "kc_df.columns = ['_'.join(col).strip() for col in kc_df.columns.values]\n",
    "kc_df = kc_df.dropna(how='all').dropna(axis=1, how='all').dropna(axis=0, how='all')\n",
    "kc_df.head()"
   ]
  },
  {
   "cell_type": "code",
   "execution_count": null,
   "metadata": {},
   "outputs": [],
   "source": [
    "kc_df = kc_df.rename(columns={'Unnamed: 1_level_0_Unnamed: 1_level_1': 'Name'}).drop('Unnamed: 2_level_0_Unnamed: 2_level_1', axis=1)\n",
    "kc_df = kc_df[kc_df['Name'].notna()]\n",
    "kc_df.columns"
   ]
  },
  {
   "cell_type": "code",
   "execution_count": null,
   "metadata": {},
   "outputs": [],
   "source": [
    "kc_df.drop(list(kc_df.filter(regex = 'Offences per 100,000 population .1')), axis = 1, inplace=True)\n",
    "kc_df.rename(columns={'2020/21_Offences per 100,000 population7': '2020/21_Offences per 100,000 population'}, inplace=True)\n",
    "kc_df.head()"
   ]
  },
  {
   "cell_type": "code",
   "execution_count": null,
   "metadata": {},
   "outputs": [],
   "source": [
    "# clean the Area Name column\n",
    "area_name = kc_df['Name'].values.copy()\n",
    "area_name = np.array([name.strip() for name in area_name])\n",
    "\n",
    "for ind, name in enumerate(area_name):\n",
    "    discard = name.find(', including GMP')\n",
    "    if discard != -1:\n",
    "        area_name[ind] = name[:discard]\n",
    "\n",
    "area_name"
   ]
  },
  {
   "cell_type": "code",
   "execution_count": null,
   "metadata": {},
   "outputs": [],
   "source": [
    "kc_df['Name'] = area_name\n",
    "kc_df.loc[kc_df['Name']=='WALES','Name'] = 'Wales'\n",
    "kc_df.loc[kc_df['Name']=='Surrey5','Name'] = 'Surrey'\n",
    "kc_df['Name'].values"
   ]
  },
  {
   "cell_type": "code",
   "execution_count": null,
   "metadata": {},
   "outputs": [],
   "source": [
    "from io import BytesIO\n",
    "from urllib.request import urlopen\n",
    "from zipfile import ZipFile\n",
    "\n",
    "url = 'https://opendata.arcgis.com/api/v3/datasets/01fd6b2d7600446d8af768005992f76a_0/downloads/data?format=shp&spatialRefId=27700&where=1%3D1'\n",
    "\n",
    "with urlopen(url) as zipresp:\n",
    "    with ZipFile(BytesIO(zipresp.read())) as zfile:\n",
    "        zfile.extractall('uk_regions_boundaries')"
   ]
  },
  {
   "cell_type": "code",
   "execution_count": null,
   "metadata": {},
   "outputs": [],
   "source": [
    "uk_regions = gpd.read_file('uk_regions_boundaries/NUTS_Level_1_(January_2018)_Boundaries.shp')\n",
    "uk_regions.head()"
   ]
  },
  {
   "cell_type": "code",
   "execution_count": null,
   "metadata": {},
   "outputs": [],
   "source": [
    "uk_regions = uk_regions[['nuts118nm', 'geometry']]\n",
    "uk_regions"
   ]
  },
  {
   "cell_type": "code",
   "execution_count": null,
   "metadata": {},
   "outputs": [],
   "source": [
    "area_name = uk_regions['nuts118nm'].values.copy()\n",
    "for ind, name in enumerate(area_name):\n",
    "    discard = name.find(' (England)')\n",
    "    if discard != -1:\n",
    "        area_name[ind] = name[:discard]\n",
    "area_name = np.array([name.strip() for name in area_name])\n",
    "area_name"
   ]
  },
  {
   "cell_type": "code",
   "execution_count": null,
   "metadata": {},
   "outputs": [],
   "source": [
    "area_name[2] = 'Yorkshire and the Humber'\n",
    "area_name"
   ]
  },
  {
   "cell_type": "code",
   "execution_count": null,
   "metadata": {},
   "outputs": [],
   "source": [
    "uk_regions['Area Name'] = area_name\n",
    "uk_regions"
   ]
  },
  {
   "cell_type": "code",
   "execution_count": null,
   "metadata": {},
   "outputs": [],
   "source": [
    "kc_df['Name'].values"
   ]
  },
  {
   "cell_type": "code",
   "execution_count": null,
   "metadata": {},
   "outputs": [],
   "source": [
    "uk_regions.loc[uk_regions['Area Name']=='West Midlands', 'Area Name'] = 'West Midlands Region'"
   ]
  },
  {
   "cell_type": "code",
   "execution_count": null,
   "metadata": {},
   "outputs": [],
   "source": [
    "uk_regions_with_kc = pd.merge(uk_regions, kc_df, left_on=uk_regions['Area Name'].str.lower(), \n",
    "                              right_on=kc_df['Name'].str.lower(), \n",
    "                              how='left')\n",
    "uk_regions_with_kc"
   ]
  },
  {
   "cell_type": "code",
   "execution_count": null,
   "metadata": {},
   "outputs": [],
   "source": [
    "uk_regions_with_kc.drop([10,11], inplace=True)\n",
    "uk_regions_with_kc.drop(['key_0', 'Name'], axis=1, inplace=True)"
   ]
  },
  {
   "cell_type": "code",
   "execution_count": null,
   "metadata": {},
   "outputs": [],
   "source": [
    "uk_regions_with_kc.dtypes"
   ]
  },
  {
   "cell_type": "code",
   "execution_count": null,
   "metadata": {},
   "outputs": [],
   "source": [
    "uk_regions_with_kc.columns"
   ]
  },
  {
   "cell_type": "code",
   "execution_count": null,
   "metadata": {},
   "outputs": [],
   "source": [
    "int_col = [uk_regions_with_kc.columns[i*2+1] for i in range(1,len(uk_regions_with_kc.columns)//2)]\n",
    "float_col = [uk_regions_with_kc.columns[i*2+2] for i in range(1,len(uk_regions_with_kc.columns)//2)]\n",
    "uk_regions_with_kc[int_col] = uk_regions_with_kc[int_col].astype('int')\n",
    "uk_regions_with_kc[float_col] = uk_regions_with_kc[float_col].astype('float')\n",
    "uk_regions_with_kc.dtypes"
   ]
  },
  {
   "cell_type": "code",
   "execution_count": null,
   "metadata": {},
   "outputs": [],
   "source": [
    "flatten_uk_regions_kc_int = pd.melt(uk_regions_with_kc[['nuts118nm', 'geometry', 'Area Name']+int_col], \n",
    "                                    id_vars=['nuts118nm', 'geometry', 'Area Name'],\n",
    "                                    var_name='Year', value_vars=int_col, value_name='Number')\n",
    "flatten_uk_regions_kc_float = pd.melt(uk_regions_with_kc[['nuts118nm', 'geometry', 'Area Name']+float_col], \n",
    "                                      id_vars=['nuts118nm', 'geometry', 'Area Name'],\n",
    "                                      var_name='Year', value_vars=float_col, value_name='Perc_per_pop')"
   ]
  },
  {
   "cell_type": "code",
   "execution_count": null,
   "metadata": {},
   "outputs": [],
   "source": [
    "flatten_uk_regions_kc_int['Year'] = flatten_uk_regions_kc_int['Year'].apply(int_col.index)\n",
    "flatten_uk_regions_kc_float['Year'] = flatten_uk_regions_kc_float['Year'].apply(float_col.index)"
   ]
  },
  {
   "cell_type": "code",
   "execution_count": null,
   "metadata": {},
   "outputs": [],
   "source": [
    "flatten_uk_regions_kc = pd.merge(flatten_uk_regions_kc_int, flatten_uk_regions_kc_float, how='inner')\n",
    "flatten_uk_regions_kc['Year'] = flatten_uk_regions_kc['Year'] + 2008\n",
    "flatten_uk_regions_kc"
   ]
  },
  {
   "cell_type": "code",
   "execution_count": null,
   "metadata": {},
   "outputs": [],
   "source": [
    "flatten_uk_regions_kc.loc[flatten_uk_regions_kc['Year']==2021, 'Year'] = '2010-21 change'\n",
    "flatten_uk_regions_kc.dtypes"
   ]
  },
  {
   "cell_type": "code",
   "execution_count": null,
   "metadata": {},
   "outputs": [],
   "source": [
    "flatten_uk_regions_kc.to_file('uk_regions_with_kc/uk_regions_with_kc.shp')"
   ]
  },
  {
   "cell_type": "code",
   "execution_count": null,
   "metadata": {},
   "outputs": [],
   "source": [
    "url = 'https://opendata.arcgis.com/api/v3/datasets/1c8b832d08eb4f77a453156a29f4b86b_0/downloads/data?format=shp&spatialRefId=27700&where=1%3D1'\n",
    "\n",
    "with urlopen(url) as zipresp:\n",
    "    with ZipFile(BytesIO(zipresp.read())) as zfile:\n",
    "        zfile.extractall('police_areas_boundaries')"
   ]
  },
  {
   "cell_type": "code",
   "execution_count": null,
   "metadata": {},
   "outputs": [],
   "source": [
    "police_areas = gpd.read_file('police_areas_boundaries/Police_Force_Areas_Dec_2016_FCB_in_England_and_Wales.shp')\n",
    "police_areas.head()"
   ]
  },
  {
   "cell_type": "code",
   "execution_count": null,
   "metadata": {},
   "outputs": [],
   "source": [
    "police_areas = police_areas[['pfa16nm', 'geometry']]\n",
    "kc_df.loc[kc_df['Name']=='Greater Manchester4', 'Name'] = 'Greater Manchester'\n",
    "police_areas_with_kc = pd.merge(police_areas, kc_df, left_on='pfa16nm', right_on='Name', how='left')\n",
    "police_areas_with_kc"
   ]
  },
  {
   "cell_type": "code",
   "execution_count": null,
   "metadata": {},
   "outputs": [],
   "source": [
    "police_areas_with_kc.dtypes"
   ]
  },
  {
   "cell_type": "code",
   "execution_count": null,
   "metadata": {},
   "outputs": [],
   "source": [
    "police_areas_with_kc[int_col+float_col] = police_areas_with_kc[int_col+float_col].replace('-', np.nan)\n",
    "police_areas_with_kc[int_col+float_col] = police_areas_with_kc[int_col+float_col].astype('float')\n",
    "police_areas_with_kc.dtypes"
   ]
  },
  {
   "cell_type": "code",
   "execution_count": null,
   "metadata": {},
   "outputs": [],
   "source": [
    "flatten_police_areas_with_kc_int = pd.melt(police_areas_with_kc[['pfa16nm', 'geometry', 'Name']+int_col], \n",
    "                                           id_vars=['pfa16nm', 'geometry', 'Name'],\n",
    "                                           var_name='Year', value_vars=int_col, value_name='Number')\n",
    "flatten_police_areas_with_kc_float = pd.melt(police_areas_with_kc[['pfa16nm', 'geometry', 'Name']+float_col], \n",
    "                                             id_vars=['pfa16nm', 'geometry', 'Name'],\n",
    "                                             var_name='Year', value_vars=float_col, value_name='Perc_per_pop')\n",
    "\n",
    "flatten_police_areas_with_kc_int['Year'] = flatten_police_areas_with_kc_int['Year'].apply(int_col.index)\n",
    "flatten_police_areas_with_kc_float['Year'] = flatten_police_areas_with_kc_float['Year'].apply(float_col.index)\n",
    "\n",
    "flatten_police_areas_with_kc = pd.merge(flatten_police_areas_with_kc_int, flatten_police_areas_with_kc_float, how='inner')\n",
    "flatten_police_areas_with_kc['Year'] = flatten_police_areas_with_kc['Year'] + 2008\n",
    "flatten_police_areas_with_kc"
   ]
  },
  {
   "cell_type": "code",
   "execution_count": null,
   "metadata": {},
   "outputs": [],
   "source": [
    "flatten_police_areas_with_kc.loc[flatten_police_areas_with_kc['Year']==2021, 'Year'] = '2010-21 change'"
   ]
  },
  {
   "cell_type": "code",
   "execution_count": null,
   "metadata": {},
   "outputs": [],
   "source": [
    "flatten_police_areas_with_kc.to_file('police_areas_with_kc/police_areas_with_kc.shp')"
   ]
  }
 ],
 "metadata": {
  "kernelspec": {
   "display_name": "Python 3.8.10 64-bit ('3.8.10')",
   "language": "python",
   "name": "python3"
  },
  "language_info": {
   "codemirror_mode": {
    "name": "ipython",
    "version": 3
   },
   "file_extension": ".py",
   "mimetype": "text/x-python",
   "name": "python",
   "nbconvert_exporter": "python",
   "pygments_lexer": "ipython3",
   "version": "3.8.10"
  },
  "orig_nbformat": 4,
  "vscode": {
   "interpreter": {
    "hash": "0625dabcbfc28eba5c021c62f36dbc2d60fc8a6cadea2c11314942645540f486"
   }
  }
 },
 "nbformat": 4,
 "nbformat_minor": 2
}
